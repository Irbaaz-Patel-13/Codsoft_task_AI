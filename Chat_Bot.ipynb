{
  "nbformat": 4,
  "nbformat_minor": 0,
  "metadata": {
    "colab": {
      "provenance": []
    },
    "kernelspec": {
      "name": "python3",
      "display_name": "Python 3"
    },
    "language_info": {
      "name": "python"
    }
  },
  "cells": [
    {
      "cell_type": "code",
      "execution_count": 1,
      "metadata": {
        "colab": {
          "base_uri": "https://localhost:8080/"
        },
        "id": "UEOwifs3roSj",
        "outputId": "1a052402-4ff2-4391-afb9-872478b5ad3d"
      },
      "outputs": [
        {
          "output_type": "stream",
          "name": "stdout",
          "text": [
            "Welcome to the Chatbot!\n",
            "Feel free to ask me anything. Type 'bye' to exit.\n",
            "You: hi\n",
            "Bot: Hello! How can I assist you today?\n",
            "Bot: Hey! What can I do for you?\n",
            "You: how are you\n",
            "Bot: I'm doing well, thank you for asking!\n",
            "Bot: Feeling good! How about you?\n",
            "You: what is your name \n",
            "Bot: I'm a chatbot. You can call me ChatBot!\n",
            "Bot: I'm your friendly chatbot, here to help!\n",
            "You: bye\n",
            "Bot: Goodbye! Have a great day!\n"
          ]
        }
      ],
      "source": [
        "def preprocess_text(text):\n",
        "    return text.lower()\n",
        "\n",
        "def get_response(user_input):\n",
        "    rules = {\n",
        "        \"hi\": [\"Hello! How can I assist you today?\", \"Hey! What can I do for you?\"],\n",
        "        \"how are you\": [\"I'm doing well, thank you for asking!\", \"Feeling good! How about you?\"],\n",
        "        \"bye\": [\"Goodbye! Have a great day!\", \"See you later! Take care!\"],\n",
        "        \"what is your name\": [\"I'm a chatbot. You can call me ChatBot!\", \"I'm your friendly chatbot, here to help!\"],\n",
        "        \"weather\": [\"I'm sorry, I can't provide weather information.\", \"I'm not equipped to give you the weather forecast.\"],\n",
        "        \"how can I help you\": [\"How about I assist you with some recommendations?\", \"Do you have any questions for me?\"]\n",
        "    }\n",
        "\n",
        "    processed_input = preprocess_text(user_input)\n",
        "\n",
        "    for key, responses in rules.items():\n",
        "        if key in processed_input:\n",
        "            return responses\n",
        "\n",
        "    return [\"Sorry, I'm not sure what you mean. Can you please rephrase?\"]\n",
        "\n",
        "def chat():\n",
        "    print(\"Welcome to the Chatbot!\")\n",
        "    print(\"Feel free to ask me anything. Type 'bye' to exit.\")\n",
        "\n",
        "    while True:\n",
        "        user_input = input(\"You: \")\n",
        "        if user_input.lower() == 'bye':\n",
        "            print(\"Bot: Goodbye! Have a great day!\")\n",
        "            break\n",
        "\n",
        "        responses = get_response(user_input)\n",
        "        if len(responses) == 1:\n",
        "            print(\"Bot:\", responses[0])\n",
        "        else:\n",
        "            print(\"Bot:\", responses[0])\n",
        "            print(\"Bot:\", responses[1])\n",
        "\n",
        "if __name__ == \"__main__\":\n",
        "    chat()"
      ]
    }
  ]
}